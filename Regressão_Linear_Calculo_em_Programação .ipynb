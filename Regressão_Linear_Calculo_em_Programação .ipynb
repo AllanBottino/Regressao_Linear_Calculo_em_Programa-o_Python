{
 "cells": [
  {
   "cell_type": "code",
   "execution_count": 1,
   "metadata": {},
   "outputs": [],
   "source": [
    "import numpy as np"
   ]
  },
  {
   "cell_type": "code",
   "execution_count": 2,
   "metadata": {},
   "outputs": [],
   "source": [
    "x = np.array([i for i in range(5)])\n",
    "\n",
    "y = np.array([i for i in range(5)])\n"
   ]
  },
  {
   "cell_type": "code",
   "execution_count": 3,
   "metadata": {},
   "outputs": [
    {
     "data": {
      "text/plain": [
       "array([0, 1, 2, 3, 4])"
      ]
     },
     "execution_count": 3,
     "metadata": {},
     "output_type": "execute_result"
    }
   ],
   "source": [
    "x"
   ]
  },
  {
   "cell_type": "code",
   "execution_count": 4,
   "metadata": {},
   "outputs": [
    {
     "data": {
      "text/plain": [
       "array([0, 1, 2, 3, 4])"
      ]
     },
     "execution_count": 4,
     "metadata": {},
     "output_type": "execute_result"
    }
   ],
   "source": [
    "y"
   ]
  },
  {
   "cell_type": "code",
   "execution_count": 27,
   "metadata": {},
   "outputs": [
    {
     "data": {
      "text/plain": [
       "array([ 0,  1,  4,  9, 16])"
      ]
     },
     "execution_count": 27,
     "metadata": {},
     "output_type": "execute_result"
    }
   ],
   "source": [
    "# for i in range(5):\n",
    "#  x.append(x[i] * y[i])  Comando para multiplicar sem o \"np.array\"\n",
    "\n",
    "x * y\n",
    "\n"
   ]
  },
  {
   "cell_type": "code",
   "execution_count": 28,
   "metadata": {},
   "outputs": [
    {
     "data": {
      "text/plain": [
       "<matplotlib.collections.PathCollection at 0x19ae37a0f40>"
      ]
     },
     "execution_count": 28,
     "metadata": {},
     "output_type": "execute_result"
    },
    {
     "data": {
      "image/png": "[encoded data removed]",
      "text/plain": [
       "<Figure size 432x288 with 1 Axes>"
      ]
     },
     "metadata": {
      "needs_background": "light"
     },
     "output_type": "display_data"
    }
   ],
   "source": [
    "import matplotlib.pyplot as plt\n",
    "\n",
    "plt.scatter(x, y)"
   ]
  },
  {
   "cell_type": "code",
   "execution_count": 29,
   "metadata": {},
   "outputs": [],
   "source": [
    "from random import uniform\n",
    "\n",
    "ws = np.array([round(uniform(-1, 1),3) for i in range(2)])  # Aqui ele cria os valores de ws (w0 e w1, A e B da fórmula)\n",
    "                                                            # Os números são de -1 até 1\n",
    "                                                            # A função \"round\" mexe nas casas decimais (as virgulas) o \"3\" são as 3\n",
    "                                                            # casas decimais do round\n",
    "                                                            #\n"
   ]
  },
  {
   "cell_type": "code",
   "execution_count": 30,
   "metadata": {},
   "outputs": [],
   "source": [
    "def hipotese (w0, w1, x):\n",
    "        return w0 + w1 * x        # Dentro desta função ele criou tanto o espaço para armazenar os valores \"w0\", \"w1\" e \"x\"\n",
    "                                  # E ainda colocou a hipotese para calcular a equação da regressão\n",
    "        \n",
    "                                  # W0 = Intercept, onde o eixo corta ou de onde ele saí.\n",
    "                                  # W1 = Inclianação, Ângulo!\n",
    "                \n",
    "                                  # Y = hipotese = Y "
   ]
  },
  {
   "cell_type": "code",
   "execution_count": 31,
   "metadata": {},
   "outputs": [
    {
     "data": {
      "text/plain": [
       "array([ 0.505, -0.119, -0.743, -1.367, -1.991])"
      ]
     },
     "execution_count": 31,
     "metadata": {},
     "output_type": "execute_result"
    }
   ],
   "source": [
    "\n",
    "\n",
    "hipotese(ws[0], ws[1], x)    # Dentro dos espaços das posições ele colocou os valores randomicos gerados na função \"ws\"\n",
    "                             # o \"5\" é o valor que eu dei para o eixo x\n",
    "                             # Quando eu coloquei \"x\" nessa coisa aqui \"x = np.array([i for i in range(5)])\" \n",
    "                             # Já foi definido que ia até 5, então ele faz o calculo \"w0 + w1 * x \" usando os valores\n",
    "                             # randomicos do \"ws\" e criando o resultado das 5 posições.\n",
    "\n",
    "                             # Se colocar um valor no x e multiplicar pelo w0 + w1, retornará onde corresponde no eixo Y!\n",
    "                    \n",
    "                             # Os resultados dessa conta são 5 valores diferentes, eles vêem disso aqui:\n",
    "                             # x = np.array([i for i in range(5)]) = x = array([0, 1, 2, 3, 4])\n",
    "                             # Ele calculou usando as 5 posições do eixo x com o w0 e w1 (ws)"
   ]
  },
  {
   "cell_type": "code",
   "execution_count": 32,
   "metadata": {},
   "outputs": [
    {
     "data": {
      "text/plain": [
       "[<matplotlib.lines.Line2D at 0x19ae3805ca0>]"
      ]
     },
     "execution_count": 32,
     "metadata": {},
     "output_type": "execute_result"
    },
    {
     "data": {
      "image/png": "[encoded data removed]",
      "text/plain": [
       "<Figure size 432x288 with 1 Axes>"
      ]
     },
     "metadata": {
      "needs_background": "light"
     },
     "output_type": "display_data"
    }
   ],
   "source": [
    "plt.scatter(x, y)\n",
    "plt.plot(x, hipotese(ws[0], ws[1], x))"
   ]
  },
  {
   "cell_type": "code",
   "execution_count": 33,
   "metadata": {},
   "outputs": [
    {
     "data": {
      "text/plain": [
       "array([ 0.505, -0.624])"
      ]
     },
     "execution_count": 33,
     "metadata": {},
     "output_type": "execute_result"
    }
   ],
   "source": [
    "ws  # valores que geraram essa reta"
   ]
  },
  {
   "cell_type": "markdown",
   "metadata": {},
   "source": [
    "# Calculando o Quão errado essa reta está.\n",
    "\n",
    "# MSE = Mean Square Error = Erro do Quadrado Médio\n",
    "\n",
    "# Lembrando que existem muitas formas de se calcular o erro"
   ]
  },
  {
   "cell_type": "code",
   "execution_count": 35,
   "metadata": {},
   "outputs": [],
   "source": [
    "\n",
    "def MSE(w0, w1, x, y):\n",
    "    return (hipotese(w0, w1, x) - y) ** 2\n"
   ]
  },
  {
   "cell_type": "code",
   "execution_count": 36,
   "metadata": {},
   "outputs": [
    {
     "data": {
      "text/plain": [
       "array([ 0.255025,  1.252161,  7.524049, 19.070689, 35.892081])"
      ]
     },
     "execution_count": 36,
     "metadata": {},
     "output_type": "execute_result"
    }
   ],
   "source": [
    "MSE(ws[0], ws[1], x, y)  # Para cada ponto os números abaixo é a distância em relação ao eixo."
   ]
  },
  {
   "cell_type": "code",
   "execution_count": 37,
   "metadata": {},
   "outputs": [],
   "source": [
    "def MSE(w0, w1, x, y):\n",
    "    return np.sum((hipotese(w0, w1, x) - y) ** 2)  # A soma dos valores"
   ]
  },
  {
   "cell_type": "code",
   "execution_count": 38,
   "metadata": {},
   "outputs": [
    {
     "data": {
      "text/plain": [
       "63.994005"
      ]
     },
     "execution_count": 38,
     "metadata": {},
     "output_type": "execute_result"
    }
   ],
   "source": [
    "MSE(ws[0], ws[1], x, y) # A soma em si"
   ]
  },
  {
   "cell_type": "code",
   "execution_count": 39,
   "metadata": {},
   "outputs": [],
   "source": [
    "def MSE(w0, w1, x, y):\n",
    "    return np.sum((hipotese(w0, w1, x) - y) ** 2) / len(x)"
   ]
  },
  {
   "cell_type": "code",
   "execution_count": 40,
   "metadata": {},
   "outputs": [
    {
     "data": {
      "text/plain": [
       "12.798801000000001"
      ]
     },
     "execution_count": 40,
     "metadata": {},
     "output_type": "execute_result"
    }
   ],
   "source": [
    "MSE(ws[0], ws[1], x, y) # A soma e depois dividido pela quantidade total."
   ]
  },
  {
   "cell_type": "code",
   "execution_count": null,
   "metadata": {},
   "outputs": [],
   "source": []
  },
  {
   "cell_type": "code",
   "execution_count": null,
   "metadata": {},
   "outputs": [],
   "source": []
  },
  {
   "cell_type": "code",
   "execution_count": null,
   "metadata": {},
   "outputs": [],
   "source": []
  },
  {
   "cell_type": "code",
   "execution_count": null,
   "metadata": {},
   "outputs": [],
   "source": []
  },
  {
   "cell_type": "code",
   "execution_count": null,
   "metadata": {},
   "outputs": [],
   "source": []
  },
  {
   "cell_type": "code",
   "execution_count": null,
   "metadata": {},
   "outputs": [],
   "source": []
  }
 ],
 "metadata": {
  "kernelspec": {
   "display_name": "Python 3",
   "language": "python",
   "name": "python3"
  },
  "language_info": {
   "codemirror_mode": {
    "name": "ipython",
    "version": 3
   },
   "file_extension": ".py",
   "mimetype": "text/x-python",
   "name": "python",
   "nbconvert_exporter": "python",
   "pygments_lexer": "ipython3",
   "version": "3.8.3"
  }
 },
 "nbformat": 4,
 "nbformat_minor": 4
}
